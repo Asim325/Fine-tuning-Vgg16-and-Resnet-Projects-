{
 "cells": [
  {
   "cell_type": "markdown",
   "metadata": {},
   "source": [
    "## Transfer Learning VGG16 using Tensorflow "
   ]
  },
  {
   "cell_type": "code",
   "execution_count": 2,
   "metadata": {},
   "outputs": [],
   "source": [
    "# import the libraries as shown below\n",
    "\n",
    "from tensorflow.keras.layers import Input, Lambda, Dense, Flatten\n",
    "from tensorflow.keras.models import Model\n",
    "#from tensorflow.keras.applications.resnet50 import ResNet50\n",
    "from keras.applications.vgg16 import VGG16\n",
    "#from tensorflow.keras.applications.resnet50 import preprocess_input\n",
    "from tensorflow.keras.applications.vgg16 import preprocess_input\n",
    "from tensorflow.keras.preprocessing import image\n",
    "from tensorflow.keras.preprocessing.image import ImageDataGenerator,load_img\n",
    "from tensorflow.keras.models import Sequential\n",
    "import numpy as np\n",
    "from glob import glob\n",
    "import matplotlib.pyplot as plt"
   ]
  },
  {
   "cell_type": "code",
   "execution_count": 3,
   "metadata": {},
   "outputs": [],
   "source": [
    "# re-size all the images to this\n",
    "IMAGE_SIZE = [224, 224]\n",
    "\n",
    "train_path = 'Datasets/Datasets/train'\n",
    "valid_path = 'Datasets/Datasets/test'\n"
   ]
  },
  {
   "cell_type": "code",
   "execution_count": 4,
   "metadata": {},
   "outputs": [
    {
     "name": "stdout",
     "output_type": "stream",
     "text": [
      "Downloading data from https://storage.googleapis.com/tensorflow/keras-applications/vgg16/vgg16_weights_tf_dim_ordering_tf_kernels_notop.h5\n",
      "58889256/58889256 [==============================] - 14s 0us/step\n"
     ]
    }
   ],
   "source": [
    "# Import the Resnet50 library as shown below and add preprocessing layer to the front of Resnet\n",
    "# Here we will be using imagenet weights\n",
    "##vgg16\n",
    "\n",
    "vgg = VGG16(input_shape=IMAGE_SIZE + [3], weights='imagenet', include_top=False)\n",
    "\n",
    "\n"
   ]
  },
  {
   "cell_type": "code",
   "execution_count": 5,
   "metadata": {},
   "outputs": [],
   "source": [
    "# don't train existing weights\n",
    "for layer in vgg.layers:\n",
    "    layer.trainable = False"
   ]
  },
  {
   "cell_type": "code",
   "execution_count": 6,
   "metadata": {},
   "outputs": [
    {
     "data": {
      "text/plain": [
       "['Datasets/Datasets/train\\\\audi',\n",
       " 'Datasets/Datasets/train\\\\lamborghini',\n",
       " 'Datasets/Datasets/train\\\\mercedes']"
      ]
     },
     "execution_count": 6,
     "metadata": {},
     "output_type": "execute_result"
    }
   ],
   "source": [
    "  # useful for getting number of output classes\n",
    "folders = glob('Datasets/Datasets/train/*')\n",
    "folders"
   ]
  },
  {
   "cell_type": "code",
   "execution_count": 7,
   "metadata": {},
   "outputs": [
    {
     "data": {
      "text/plain": [
       "['Datasets/Datasets/test\\\\audi',\n",
       " 'Datasets/Datasets/test\\\\lamborghini',\n",
       " 'Datasets/Datasets/test\\\\mercedes']"
      ]
     },
     "execution_count": 7,
     "metadata": {},
     "output_type": "execute_result"
    }
   ],
   "source": [
    "  # useful for getting number of output classes\n",
    "folders = glob('Datasets/Datasets/test/*')\n",
    "folders"
   ]
  },
  {
   "cell_type": "code",
   "execution_count": 8,
   "metadata": {},
   "outputs": [
    {
     "data": {
      "text/plain": [
       "<KerasTensor: shape=(None, 25088) dtype=float32 (created by layer 'flatten')>"
      ]
     },
     "execution_count": 8,
     "metadata": {},
     "output_type": "execute_result"
    }
   ],
   "source": [
    "# our layers - you can add more if you want\n",
    "x = Flatten()(vgg.output)\n",
    "x"
   ]
  },
  {
   "cell_type": "code",
   "execution_count": 9,
   "metadata": {},
   "outputs": [],
   "source": [
    "prediction = Dense(len(folders), activation='softmax')(x)\n",
    "\n",
    "# create a model object\n",
    "model = Model(inputs=vgg.input, outputs=prediction)"
   ]
  },
  {
   "cell_type": "code",
   "execution_count": 10,
   "metadata": {},
   "outputs": [
    {
     "name": "stdout",
     "output_type": "stream",
     "text": [
      "Model: \"model\"\n",
      "_________________________________________________________________\n",
      " Layer (type)                Output Shape              Param #   \n",
      "=================================================================\n",
      " input_1 (InputLayer)        [(None, 224, 224, 3)]     0         \n",
      "                                                                 \n",
      " block1_conv1 (Conv2D)       (None, 224, 224, 64)      1792      \n",
      "                                                                 \n",
      " block1_conv2 (Conv2D)       (None, 224, 224, 64)      36928     \n",
      "                                                                 \n",
      " block1_pool (MaxPooling2D)  (None, 112, 112, 64)      0         \n",
      "                                                                 \n",
      " block2_conv1 (Conv2D)       (None, 112, 112, 128)     73856     \n",
      "                                                                 \n",
      " block2_conv2 (Conv2D)       (None, 112, 112, 128)     147584    \n",
      "                                                                 \n",
      " block2_pool (MaxPooling2D)  (None, 56, 56, 128)       0         \n",
      "                                                                 \n",
      " block3_conv1 (Conv2D)       (None, 56, 56, 256)       295168    \n",
      "                                                                 \n",
      " block3_conv2 (Conv2D)       (None, 56, 56, 256)       590080    \n",
      "                                                                 \n",
      " block3_conv3 (Conv2D)       (None, 56, 56, 256)       590080    \n",
      "                                                                 \n",
      " block3_pool (MaxPooling2D)  (None, 28, 28, 256)       0         \n",
      "                                                                 \n",
      " block4_conv1 (Conv2D)       (None, 28, 28, 512)       1180160   \n",
      "                                                                 \n",
      " block4_conv2 (Conv2D)       (None, 28, 28, 512)       2359808   \n",
      "                                                                 \n",
      " block4_conv3 (Conv2D)       (None, 28, 28, 512)       2359808   \n",
      "                                                                 \n",
      " block4_pool (MaxPooling2D)  (None, 14, 14, 512)       0         \n",
      "                                                                 \n",
      " block5_conv1 (Conv2D)       (None, 14, 14, 512)       2359808   \n",
      "                                                                 \n",
      " block5_conv2 (Conv2D)       (None, 14, 14, 512)       2359808   \n",
      "                                                                 \n",
      " block5_conv3 (Conv2D)       (None, 14, 14, 512)       2359808   \n",
      "                                                                 \n",
      " block5_pool (MaxPooling2D)  (None, 7, 7, 512)         0         \n",
      "                                                                 \n",
      " flatten (Flatten)           (None, 25088)             0         \n",
      "                                                                 \n",
      " dense (Dense)               (None, 3)                 75267     \n",
      "                                                                 \n",
      "=================================================================\n",
      "Total params: 14,789,955\n",
      "Trainable params: 75,267\n",
      "Non-trainable params: 14,714,688\n",
      "_________________________________________________________________\n"
     ]
    }
   ],
   "source": [
    "\n",
    "# view the structure of the model\n",
    "model.summary()\n"
   ]
  },
  {
   "cell_type": "code",
   "execution_count": 11,
   "metadata": {},
   "outputs": [],
   "source": [
    "# tell the model what cost and optimization method to use\n",
    "model.compile(\n",
    "  loss='categorical_crossentropy',\n",
    "  optimizer='adam',\n",
    "  metrics=['accuracy']\n",
    ")\n"
   ]
  },
  {
   "cell_type": "code",
   "execution_count": 12,
   "metadata": {},
   "outputs": [],
   "source": [
    "# Use the Image Data Generator to import the images from the dataset\n",
    "from tensorflow.keras.preprocessing.image import ImageDataGenerator\n",
    "\n",
    "train_datagen = ImageDataGenerator(rescale = 1./255,\n",
    "                                   shear_range = 0.2,\n",
    "                                   zoom_range = 0.2,\n",
    "                                   horizontal_flip = True)\n",
    "\n",
    "test_datagen = ImageDataGenerator(rescale = 1./255)"
   ]
  },
  {
   "cell_type": "code",
   "execution_count": 13,
   "metadata": {},
   "outputs": [
    {
     "name": "stdout",
     "output_type": "stream",
     "text": [
      "Found 64 images belonging to 3 classes.\n"
     ]
    }
   ],
   "source": [
    "# Make sure you provide the same target size as initialied for the image size\n",
    "training_set = train_datagen.flow_from_directory('Datasets/Datasets/train',\n",
    "                                                 target_size = (224, 224),\n",
    "                                                 batch_size = 32,\n",
    "                                                 class_mode = 'categorical')"
   ]
  },
  {
   "cell_type": "code",
   "execution_count": 14,
   "metadata": {},
   "outputs": [
    {
     "name": "stdout",
     "output_type": "stream",
     "text": [
      "Found 58 images belonging to 3 classes.\n"
     ]
    }
   ],
   "source": [
    "test_set = test_datagen.flow_from_directory('Datasets/Datasets/test',\n",
    "                                            target_size = (224, 224),\n",
    "                                            batch_size = 32,\n",
    "                                            class_mode = 'categorical')"
   ]
  },
  {
   "cell_type": "code",
   "execution_count": 15,
   "metadata": {},
   "outputs": [
    {
     "name": "stderr",
     "output_type": "stream",
     "text": [
      "C:\\Users\\ASIM\\AppData\\Local\\Temp\\ipykernel_13396\\4102162479.py:3: UserWarning: `Model.fit_generator` is deprecated and will be removed in a future version. Please use `Model.fit`, which supports generators.\n",
      "  r = model.fit_generator(\n"
     ]
    },
    {
     "name": "stdout",
     "output_type": "stream",
     "text": [
      "Epoch 1/50\n",
      "2/2 [==============================] - 45s 36s/step - loss: 1.6876 - accuracy: 0.3750 - val_loss: 2.9814 - val_accuracy: 0.1724\n",
      "Epoch 2/50\n",
      "2/2 [==============================] - 34s 26s/step - loss: 1.3460 - accuracy: 0.5312 - val_loss: 0.8278 - val_accuracy: 0.6897\n",
      "Epoch 3/50\n",
      "2/2 [==============================] - 42s 30s/step - loss: 0.9768 - accuracy: 0.5625 - val_loss: 0.9750 - val_accuracy: 0.6379\n",
      "Epoch 4/50\n",
      "2/2 [==============================] - 32s 22s/step - loss: 0.5177 - accuracy: 0.7812 - val_loss: 0.6216 - val_accuracy: 0.7414\n",
      "Epoch 5/50\n",
      "2/2 [==============================] - 30s 22s/step - loss: 0.2963 - accuracy: 0.8750 - val_loss: 1.1329 - val_accuracy: 0.4310\n",
      "Epoch 6/50\n",
      "2/2 [==============================] - 30s 21s/step - loss: 0.4166 - accuracy: 0.7812 - val_loss: 0.7659 - val_accuracy: 0.6379\n",
      "Epoch 7/50\n",
      "2/2 [==============================] - 30s 22s/step - loss: 0.2423 - accuracy: 0.9375 - val_loss: 0.4665 - val_accuracy: 0.8103\n",
      "Epoch 8/50\n",
      "2/2 [==============================] - 29s 21s/step - loss: 0.1064 - accuracy: 0.9844 - val_loss: 0.5595 - val_accuracy: 0.8103\n",
      "Epoch 9/50\n",
      "2/2 [==============================] - 30s 22s/step - loss: 0.1946 - accuracy: 0.9375 - val_loss: 0.6733 - val_accuracy: 0.7586\n",
      "Epoch 10/50\n",
      "2/2 [==============================] - 30s 22s/step - loss: 0.1175 - accuracy: 0.9688 - val_loss: 0.7577 - val_accuracy: 0.7241\n",
      "Epoch 11/50\n",
      "2/2 [==============================] - 30s 22s/step - loss: 0.1142 - accuracy: 0.9531 - val_loss: 0.6891 - val_accuracy: 0.7586\n",
      "Epoch 12/50\n",
      "2/2 [==============================] - 30s 22s/step - loss: 0.0752 - accuracy: 0.9844 - val_loss: 0.5519 - val_accuracy: 0.7931\n",
      "Epoch 13/50\n",
      "2/2 [==============================] - 30s 21s/step - loss: 0.0433 - accuracy: 1.0000 - val_loss: 0.4433 - val_accuracy: 0.8448\n",
      "Epoch 14/50\n",
      "2/2 [==============================] - 30s 22s/step - loss: 0.0510 - accuracy: 0.9844 - val_loss: 0.3982 - val_accuracy: 0.7931\n",
      "Epoch 15/50\n",
      "2/2 [==============================] - 30s 21s/step - loss: 0.0280 - accuracy: 1.0000 - val_loss: 0.4056 - val_accuracy: 0.8621\n",
      "Epoch 16/50\n",
      "2/2 [==============================] - 30s 21s/step - loss: 0.0486 - accuracy: 0.9844 - val_loss: 0.3943 - val_accuracy: 0.8621\n",
      "Epoch 17/50\n",
      "2/2 [==============================] - 29s 21s/step - loss: 0.0369 - accuracy: 1.0000 - val_loss: 0.3762 - val_accuracy: 0.8276\n",
      "Epoch 18/50\n",
      "2/2 [==============================] - 30s 21s/step - loss: 0.0262 - accuracy: 1.0000 - val_loss: 0.3798 - val_accuracy: 0.7931\n",
      "Epoch 19/50\n",
      "2/2 [==============================] - 30s 22s/step - loss: 0.0197 - accuracy: 1.0000 - val_loss: 0.4125 - val_accuracy: 0.8276\n",
      "Epoch 20/50\n",
      "2/2 [==============================] - 30s 22s/step - loss: 0.0127 - accuracy: 1.0000 - val_loss: 0.4596 - val_accuracy: 0.7931\n",
      "Epoch 21/50\n",
      "2/2 [==============================] - 30s 21s/step - loss: 0.0251 - accuracy: 1.0000 - val_loss: 0.4840 - val_accuracy: 0.8103\n",
      "Epoch 22/50\n",
      "2/2 [==============================] - 32s 24s/step - loss: 0.0226 - accuracy: 1.0000 - val_loss: 0.4947 - val_accuracy: 0.8103\n",
      "Epoch 23/50\n",
      "2/2 [==============================] - 32s 23s/step - loss: 0.0147 - accuracy: 1.0000 - val_loss: 0.5039 - val_accuracy: 0.8103\n",
      "Epoch 24/50\n",
      "2/2 [==============================] - 43s 30s/step - loss: 0.0148 - accuracy: 1.0000 - val_loss: 0.5110 - val_accuracy: 0.8103\n",
      "Epoch 25/50\n",
      "2/2 [==============================] - 52s 32s/step - loss: 0.0070 - accuracy: 1.0000 - val_loss: 0.5176 - val_accuracy: 0.8103\n",
      "Epoch 26/50\n",
      "2/2 [==============================] - 48s 34s/step - loss: 0.0154 - accuracy: 1.0000 - val_loss: 0.5204 - val_accuracy: 0.8103\n",
      "Epoch 27/50\n",
      "2/2 [==============================] - 42s 30s/step - loss: 0.0195 - accuracy: 1.0000 - val_loss: 0.4986 - val_accuracy: 0.8103\n",
      "Epoch 28/50\n",
      "2/2 [==============================] - 44s 29s/step - loss: 0.0083 - accuracy: 1.0000 - val_loss: 0.4771 - val_accuracy: 0.8103\n",
      "Epoch 29/50\n",
      "2/2 [==============================] - 45s 32s/step - loss: 0.0103 - accuracy: 1.0000 - val_loss: 0.4529 - val_accuracy: 0.7931\n",
      "Epoch 30/50\n",
      "2/2 [==============================] - 40s 29s/step - loss: 0.0084 - accuracy: 1.0000 - val_loss: 0.4261 - val_accuracy: 0.8276\n",
      "Epoch 31/50\n",
      "2/2 [==============================] - 37s 27s/step - loss: 0.0120 - accuracy: 1.0000 - val_loss: 0.4078 - val_accuracy: 0.8448\n",
      "Epoch 32/50\n",
      "2/2 [==============================] - 39s 26s/step - loss: 0.0062 - accuracy: 1.0000 - val_loss: 0.3996 - val_accuracy: 0.8448\n",
      "Epoch 33/50\n",
      "2/2 [==============================] - 41s 31s/step - loss: 0.0091 - accuracy: 1.0000 - val_loss: 0.3947 - val_accuracy: 0.8621\n",
      "Epoch 34/50\n",
      "2/2 [==============================] - 44s 33s/step - loss: 0.0070 - accuracy: 1.0000 - val_loss: 0.3861 - val_accuracy: 0.8621\n",
      "Epoch 35/50\n",
      "2/2 [==============================] - 41s 30s/step - loss: 0.0089 - accuracy: 1.0000 - val_loss: 0.3809 - val_accuracy: 0.8621\n",
      "Epoch 36/50\n",
      "2/2 [==============================] - 41s 31s/step - loss: 0.0076 - accuracy: 1.0000 - val_loss: 0.3713 - val_accuracy: 0.8793\n",
      "Epoch 37/50\n",
      "2/2 [==============================] - 39s 29s/step - loss: 0.0057 - accuracy: 1.0000 - val_loss: 0.3652 - val_accuracy: 0.8793\n",
      "Epoch 38/50\n",
      "2/2 [==============================] - 37s 27s/step - loss: 0.0072 - accuracy: 1.0000 - val_loss: 0.3630 - val_accuracy: 0.8793\n",
      "Epoch 39/50\n",
      "2/2 [==============================] - 42s 29s/step - loss: 0.0062 - accuracy: 1.0000 - val_loss: 0.3633 - val_accuracy: 0.8793\n",
      "Epoch 40/50\n",
      "2/2 [==============================] - 41s 29s/step - loss: 0.0050 - accuracy: 1.0000 - val_loss: 0.3650 - val_accuracy: 0.8793\n",
      "Epoch 41/50\n",
      "2/2 [==============================] - 38s 28s/step - loss: 0.0081 - accuracy: 1.0000 - val_loss: 0.3677 - val_accuracy: 0.8793\n",
      "Epoch 42/50\n",
      "2/2 [==============================] - 42s 28s/step - loss: 0.0051 - accuracy: 1.0000 - val_loss: 0.3728 - val_accuracy: 0.8793\n",
      "Epoch 43/50\n",
      "2/2 [==============================] - 42s 29s/step - loss: 0.0063 - accuracy: 1.0000 - val_loss: 0.3780 - val_accuracy: 0.8793\n",
      "Epoch 44/50\n",
      "2/2 [==============================] - 44s 34s/step - loss: 0.0046 - accuracy: 1.0000 - val_loss: 0.3834 - val_accuracy: 0.8793\n",
      "Epoch 45/50\n",
      "2/2 [==============================] - 47s 31s/step - loss: 0.0056 - accuracy: 1.0000 - val_loss: 0.3893 - val_accuracy: 0.8793\n",
      "Epoch 46/50\n",
      "2/2 [==============================] - 33s 24s/step - loss: 0.0051 - accuracy: 1.0000 - val_loss: 0.3953 - val_accuracy: 0.8793\n",
      "Epoch 47/50\n",
      "2/2 [==============================] - 40s 29s/step - loss: 0.0050 - accuracy: 1.0000 - val_loss: 0.3974 - val_accuracy: 0.8621\n",
      "Epoch 48/50\n",
      "2/2 [==============================] - 40s 30s/step - loss: 0.0066 - accuracy: 1.0000 - val_loss: 0.3932 - val_accuracy: 0.8793\n",
      "Epoch 49/50\n",
      "2/2 [==============================] - 40s 28s/step - loss: 0.0058 - accuracy: 1.0000 - val_loss: 0.3880 - val_accuracy: 0.8621\n",
      "Epoch 50/50\n",
      "2/2 [==============================] - 50s 36s/step - loss: 0.0049 - accuracy: 1.0000 - val_loss: 0.3793 - val_accuracy: 0.8621\n"
     ]
    }
   ],
   "source": [
    "# fit the model\n",
    "# Run the cell. It will take some time to execute\n",
    "r = model.fit_generator(\n",
    "  training_set,\n",
    "  validation_data=test_set,\n",
    "  epochs=50,\n",
    "  steps_per_epoch=len(training_set),\n",
    "  validation_steps=len(test_set)\n",
    ")"
   ]
  },
  {
   "cell_type": "code",
   "execution_count": 16,
   "metadata": {},
   "outputs": [
    {
     "data": {
      "text/plain": [
       "{'loss': [1.6875882148742676,\n",
       "  1.3460443019866943,\n",
       "  0.9768096208572388,\n",
       "  0.5177420377731323,\n",
       "  0.2963119149208069,\n",
       "  0.4166069030761719,\n",
       "  0.2422652542591095,\n",
       "  0.10642649978399277,\n",
       "  0.19457262754440308,\n",
       "  0.11750324070453644,\n",
       "  0.11424751579761505,\n",
       "  0.07515648007392883,\n",
       "  0.04333861172199249,\n",
       "  0.05104687064886093,\n",
       "  0.028034087270498276,\n",
       "  0.04864715039730072,\n",
       "  0.0368691086769104,\n",
       "  0.026203060522675514,\n",
       "  0.019681693986058235,\n",
       "  0.012667126022279263,\n",
       "  0.025099482387304306,\n",
       "  0.02260042354464531,\n",
       "  0.014712333679199219,\n",
       "  0.014817016199231148,\n",
       "  0.007035128306597471,\n",
       "  0.015396607108414173,\n",
       "  0.019482336938381195,\n",
       "  0.008280526846647263,\n",
       "  0.010263513773679733,\n",
       "  0.008374999277293682,\n",
       "  0.011953325010836124,\n",
       "  0.0062346807681024075,\n",
       "  0.009126314893364906,\n",
       "  0.007034600712358952,\n",
       "  0.008896289393305779,\n",
       "  0.007623729296028614,\n",
       "  0.005684960633516312,\n",
       "  0.007181667722761631,\n",
       "  0.006181796081364155,\n",
       "  0.004954098723828793,\n",
       "  0.008120693266391754,\n",
       "  0.0050545562990009785,\n",
       "  0.00627181027084589,\n",
       "  0.004619802348315716,\n",
       "  0.005602912977337837,\n",
       "  0.005080306436866522,\n",
       "  0.0050165667198598385,\n",
       "  0.006598893087357283,\n",
       "  0.005790088791400194,\n",
       "  0.004911561496555805],\n",
       " 'accuracy': [0.375,\n",
       "  0.53125,\n",
       "  0.5625,\n",
       "  0.78125,\n",
       "  0.875,\n",
       "  0.78125,\n",
       "  0.9375,\n",
       "  0.984375,\n",
       "  0.9375,\n",
       "  0.96875,\n",
       "  0.953125,\n",
       "  0.984375,\n",
       "  1.0,\n",
       "  0.984375,\n",
       "  1.0,\n",
       "  0.984375,\n",
       "  1.0,\n",
       "  1.0,\n",
       "  1.0,\n",
       "  1.0,\n",
       "  1.0,\n",
       "  1.0,\n",
       "  1.0,\n",
       "  1.0,\n",
       "  1.0,\n",
       "  1.0,\n",
       "  1.0,\n",
       "  1.0,\n",
       "  1.0,\n",
       "  1.0,\n",
       "  1.0,\n",
       "  1.0,\n",
       "  1.0,\n",
       "  1.0,\n",
       "  1.0,\n",
       "  1.0,\n",
       "  1.0,\n",
       "  1.0,\n",
       "  1.0,\n",
       "  1.0,\n",
       "  1.0,\n",
       "  1.0,\n",
       "  1.0,\n",
       "  1.0,\n",
       "  1.0,\n",
       "  1.0,\n",
       "  1.0,\n",
       "  1.0,\n",
       "  1.0,\n",
       "  1.0],\n",
       " 'val_loss': [2.9813714027404785,\n",
       "  0.8277669548988342,\n",
       "  0.9749897718429565,\n",
       "  0.6216091513633728,\n",
       "  1.1329201459884644,\n",
       "  0.7658641338348389,\n",
       "  0.46648970246315,\n",
       "  0.5594871640205383,\n",
       "  0.6732521653175354,\n",
       "  0.7576785087585449,\n",
       "  0.6890556216239929,\n",
       "  0.5519344806671143,\n",
       "  0.4433498978614807,\n",
       "  0.39823395013809204,\n",
       "  0.40561041235923767,\n",
       "  0.39425843954086304,\n",
       "  0.3761725127696991,\n",
       "  0.3798307180404663,\n",
       "  0.41247472167015076,\n",
       "  0.45959576964378357,\n",
       "  0.48402196168899536,\n",
       "  0.4947029650211334,\n",
       "  0.503919780254364,\n",
       "  0.510952889919281,\n",
       "  0.5175741910934448,\n",
       "  0.5203521847724915,\n",
       "  0.49863341450691223,\n",
       "  0.47710666060447693,\n",
       "  0.452949196100235,\n",
       "  0.4261055886745453,\n",
       "  0.40776023268699646,\n",
       "  0.39963284134864807,\n",
       "  0.3946557343006134,\n",
       "  0.38613635301589966,\n",
       "  0.3809038996696472,\n",
       "  0.37127044796943665,\n",
       "  0.36515364050865173,\n",
       "  0.36302343010902405,\n",
       "  0.36333346366882324,\n",
       "  0.365022212266922,\n",
       "  0.3677268326282501,\n",
       "  0.3727608919143677,\n",
       "  0.37800541520118713,\n",
       "  0.3834429085254669,\n",
       "  0.38928860425949097,\n",
       "  0.3953093886375427,\n",
       "  0.3974047601222992,\n",
       "  0.3932367265224457,\n",
       "  0.38795188069343567,\n",
       "  0.37928059697151184],\n",
       " 'val_accuracy': [0.17241379618644714,\n",
       "  0.6896551847457886,\n",
       "  0.6379310488700867,\n",
       "  0.7413793206214905,\n",
       "  0.43103447556495667,\n",
       "  0.6379310488700867,\n",
       "  0.8103448152542114,\n",
       "  0.8103448152542114,\n",
       "  0.7586206793785095,\n",
       "  0.7241379022598267,\n",
       "  0.7586206793785095,\n",
       "  0.7931034564971924,\n",
       "  0.8448275923728943,\n",
       "  0.7931034564971924,\n",
       "  0.8620689511299133,\n",
       "  0.8620689511299133,\n",
       "  0.8275862336158752,\n",
       "  0.7931034564971924,\n",
       "  0.8275862336158752,\n",
       "  0.7931034564971924,\n",
       "  0.8103448152542114,\n",
       "  0.8103448152542114,\n",
       "  0.8103448152542114,\n",
       "  0.8103448152542114,\n",
       "  0.8103448152542114,\n",
       "  0.8103448152542114,\n",
       "  0.8103448152542114,\n",
       "  0.8103448152542114,\n",
       "  0.7931034564971924,\n",
       "  0.8275862336158752,\n",
       "  0.8448275923728943,\n",
       "  0.8448275923728943,\n",
       "  0.8620689511299133,\n",
       "  0.8620689511299133,\n",
       "  0.8620689511299133,\n",
       "  0.8793103694915771,\n",
       "  0.8793103694915771,\n",
       "  0.8793103694915771,\n",
       "  0.8793103694915771,\n",
       "  0.8793103694915771,\n",
       "  0.8793103694915771,\n",
       "  0.8793103694915771,\n",
       "  0.8793103694915771,\n",
       "  0.8793103694915771,\n",
       "  0.8793103694915771,\n",
       "  0.8793103694915771,\n",
       "  0.8620689511299133,\n",
       "  0.8793103694915771,\n",
       "  0.8620689511299133,\n",
       "  0.8620689511299133]}"
      ]
     },
     "execution_count": 16,
     "metadata": {},
     "output_type": "execute_result"
    }
   ],
   "source": [
    "r.history"
   ]
  },
  {
   "cell_type": "code",
   "execution_count": 17,
   "metadata": {},
   "outputs": [
    {
     "data": {
      "image/png": "[encoded data removed]",
      "text/plain": [
       "<Figure size 640x480 with 1 Axes>"
      ]
     },
     "metadata": {},
     "output_type": "display_data"
    },
    {
     "data": {
      "image/png": "[encoded data removed]",
      "text/plain": [
       "<Figure size 640x480 with 1 Axes>"
      ]
     },
     "metadata": {},
     "output_type": "display_data"
    },
    {
     "data": {
      "text/plain": [
       "<Figure size 640x480 with 0 Axes>"
      ]
     },
     "metadata": {},
     "output_type": "display_data"
    }
   ],
   "source": [
    "# plot the loss\n",
    "plt.plot(r.history['loss'], label='train loss')\n",
    "plt.plot(r.history['val_loss'], label='val loss')\n",
    "plt.legend()\n",
    "plt.show()\n",
    "plt.savefig('LossVal_loss')\n",
    "\n",
    "# plot the accuracy\n",
    "plt.plot(r.history['accuracy'], label='train acc')\n",
    "plt.plot(r.history['val_accuracy'], label='val acc')\n",
    "plt.legend()\n",
    "plt.show()\n",
    "plt.savefig('AccVal_acc')"
   ]
  },
  {
   "cell_type": "code",
   "execution_count": 18,
   "metadata": {},
   "outputs": [],
   "source": [
    "# save it as a h5 file\n",
    "\n",
    "\n",
    "from tensorflow.keras.models import load_model\n",
    "\n",
    "model.save('model_vgg.h5')"
   ]
  },
  {
   "cell_type": "code",
   "execution_count": null,
   "metadata": {},
   "outputs": [],
   "source": []
  },
  {
   "cell_type": "code",
   "execution_count": 19,
   "metadata": {},
   "outputs": [
    {
     "name": "stdout",
     "output_type": "stream",
     "text": [
      "2/2 [==============================] - 20s 8s/step\n"
     ]
    }
   ],
   "source": [
    "\n",
    "y_pred = model.predict(test_set)\n"
   ]
  },
  {
   "cell_type": "code",
   "execution_count": 20,
   "metadata": {},
   "outputs": [
    {
     "data": {
      "text/plain": [
       "array([[4.25575068e-04, 9.95440364e-01, 4.13409155e-03],\n",
       "       [8.86044919e-01, 1.27007309e-02, 1.01254396e-01],\n",
       "       [4.43264067e-01, 1.30469305e-02, 5.43689013e-01],\n",
       "       [5.26123084e-02, 4.72677350e-02, 9.00119901e-01],\n",
       "       [8.51277728e-03, 9.46745455e-01, 4.47418094e-02],\n",
       "       [7.31383115e-02, 6.79719031e-01, 2.47142732e-01],\n",
       "       [2.13884339e-02, 3.72862846e-01, 6.05748773e-01],\n",
       "       [2.78550549e-03, 3.75840673e-03, 9.93456066e-01],\n",
       "       [9.99943137e-01, 2.22941003e-06, 5.46040937e-05],\n",
       "       [2.32734492e-05, 9.99563515e-01, 4.13214089e-04],\n",
       "       [9.93695915e-01, 3.23992805e-04, 5.98011864e-03],\n",
       "       [2.58679967e-04, 9.98912692e-01, 8.28733260e-04],\n",
       "       [2.21626312e-02, 4.38806377e-02, 9.33956742e-01],\n",
       "       [8.74146581e-01, 1.13436617e-01, 1.24168433e-02],\n",
       "       [1.36973672e-02, 4.46817070e-01, 5.39485514e-01],\n",
       "       [1.70148849e-01, 2.22290913e-03, 8.27628255e-01],\n",
       "       [1.71164181e-02, 9.74449754e-01, 8.43385141e-03],\n",
       "       [2.37174943e-01, 6.52139261e-03, 7.56303668e-01],\n",
       "       [2.75870808e-03, 9.62788761e-01, 3.44525166e-02],\n",
       "       [6.25083863e-04, 9.99024630e-01, 3.50197486e-04],\n",
       "       [5.32655104e-04, 9.98480380e-01, 9.87017062e-04],\n",
       "       [5.10480344e-01, 6.85434032e-04, 4.88834202e-01],\n",
       "       [2.97989305e-02, 2.30319917e-01, 7.39881158e-01],\n",
       "       [4.63050395e-01, 1.40581369e-01, 3.96368206e-01],\n",
       "       [7.41204396e-02, 1.03271171e-01, 8.22608352e-01],\n",
       "       [1.22012349e-03, 9.98603761e-01, 1.76224101e-04],\n",
       "       [3.27291675e-02, 6.87613010e-01, 2.79657781e-01],\n",
       "       [2.77656293e-03, 1.51336053e-03, 9.95710015e-01],\n",
       "       [4.91334638e-03, 3.19749802e-01, 6.75336897e-01],\n",
       "       [3.21344078e-01, 7.41008727e-04, 6.77914917e-01],\n",
       "       [4.87370453e-05, 9.99395847e-01, 5.55371575e-04],\n",
       "       [1.30587738e-04, 9.99601424e-01, 2.68015341e-04],\n",
       "       [1.94603833e-03, 9.59261358e-01, 3.87925692e-02],\n",
       "       [1.13799160e-05, 9.99969244e-01, 1.94385084e-05],\n",
       "       [2.20739370e-04, 9.43681538e-01, 5.60976826e-02],\n",
       "       [1.11826370e-02, 8.76799464e-01, 1.12017833e-01],\n",
       "       [1.17242895e-03, 9.96660590e-01, 2.16696970e-03],\n",
       "       [5.41097037e-02, 9.35087919e-01, 1.08024785e-02],\n",
       "       [9.86952901e-01, 1.50150852e-04, 1.28970332e-02],\n",
       "       [1.35596961e-01, 6.74114048e-01, 1.90288991e-01],\n",
       "       [2.46525230e-03, 9.97033834e-01, 5.00840193e-04],\n",
       "       [2.45688658e-04, 9.98602569e-01, 1.15169189e-03],\n",
       "       [3.66452992e-01, 1.77397784e-02, 6.15807295e-01],\n",
       "       [2.13066844e-04, 9.99650478e-01, 1.36486764e-04],\n",
       "       [2.11295746e-02, 4.86230664e-03, 9.74008143e-01],\n",
       "       [4.58599716e-05, 9.99502182e-01, 4.51944303e-04],\n",
       "       [3.54047661e-04, 9.96606588e-01, 3.03936098e-03],\n",
       "       [7.55231129e-03, 7.90804684e-01, 2.01642975e-01],\n",
       "       [5.77621628e-04, 9.28985362e-04, 9.98493433e-01],\n",
       "       [1.05581642e-03, 9.98633683e-01, 3.10426636e-04],\n",
       "       [1.33206497e-03, 9.98487830e-01, 1.80122966e-04],\n",
       "       [1.15692464e-03, 9.33196604e-01, 6.56463876e-02],\n",
       "       [2.62988708e-03, 9.81400251e-01, 1.59698613e-02],\n",
       "       [2.33957413e-04, 9.99595821e-01, 1.70290761e-04],\n",
       "       [6.61741615e-06, 9.99668598e-01, 3.24746885e-04],\n",
       "       [5.90502576e-04, 9.93463397e-01, 5.94613142e-03],\n",
       "       [1.10589957e-04, 9.98957992e-01, 9.31358954e-04],\n",
       "       [8.17932665e-01, 4.11519688e-03, 1.77952141e-01]], dtype=float32)"
      ]
     },
     "execution_count": 20,
     "metadata": {},
     "output_type": "execute_result"
    }
   ],
   "source": [
    "y_pred"
   ]
  },
  {
   "cell_type": "code",
   "execution_count": 21,
   "metadata": {},
   "outputs": [],
   "source": [
    "import numpy as np\n",
    "y_pred = np.argmax(y_pred, axis=1)"
   ]
  },
  {
   "cell_type": "code",
   "execution_count": 22,
   "metadata": {},
   "outputs": [
    {
     "data": {
      "text/plain": [
       "array([1, 0, 2, 2, 1, 1, 2, 2, 0, 1, 0, 1, 2, 0, 2, 2, 1, 2, 1, 1, 1, 0,\n",
       "       2, 0, 2, 1, 1, 2, 2, 2, 1, 1, 1, 1, 1, 1, 1, 1, 0, 1, 1, 1, 2, 1,\n",
       "       2, 1, 1, 1, 2, 1, 1, 1, 1, 1, 1, 1, 1, 0], dtype=int64)"
      ]
     },
     "execution_count": 22,
     "metadata": {},
     "output_type": "execute_result"
    }
   ],
   "source": [
    "y_pred"
   ]
  },
  {
   "cell_type": "code",
   "execution_count": null,
   "metadata": {},
   "outputs": [],
   "source": []
  },
  {
   "cell_type": "code",
   "execution_count": 23,
   "metadata": {},
   "outputs": [],
   "source": [
    "from tensorflow.keras.models import load_model\n",
    "from tensorflow.keras.preprocessing import image"
   ]
  },
  {
   "cell_type": "code",
   "execution_count": 24,
   "metadata": {},
   "outputs": [],
   "source": [
    "model=load_model('model_vgg.h5')"
   ]
  },
  {
   "cell_type": "code",
   "execution_count": 25,
   "metadata": {},
   "outputs": [],
   "source": [
    "img=image.load_img('download.jfif',target_size=(224,224))\n",
    "\n"
   ]
  },
  {
   "cell_type": "code",
   "execution_count": 26,
   "metadata": {},
   "outputs": [
    {
     "data": {
      "text/plain": [
       "array([[[ 42.,  33.,  24.],\n",
       "        [ 48.,  39.,  30.],\n",
       "        [ 51.,  43.,  32.],\n",
       "        ...,\n",
       "        [158., 132., 119.],\n",
       "        [126., 100.,  87.],\n",
       "        [150., 124., 111.]],\n",
       "\n",
       "       [[ 21.,  12.,   3.],\n",
       "        [ 32.,  23.,  14.],\n",
       "        [ 39.,  31.,  20.],\n",
       "        ...,\n",
       "        [116.,  90.,  77.],\n",
       "        [ 97.,  71.,  58.],\n",
       "        [104.,  78.,  65.]],\n",
       "\n",
       "       [[ 21.,  12.,   3.],\n",
       "        [ 32.,  23.,  14.],\n",
       "        [ 39.,  31.,  20.],\n",
       "        ...,\n",
       "        [116.,  90.,  77.],\n",
       "        [ 97.,  71.,  58.],\n",
       "        [104.,  78.,  65.]],\n",
       "\n",
       "       ...,\n",
       "\n",
       "       [[ 49.,  45.,  46.],\n",
       "        [ 49.,  45.,  46.],\n",
       "        [ 49.,  45.,  46.],\n",
       "        ...,\n",
       "        [ 63.,  61.,  66.],\n",
       "        [ 71.,  69.,  74.],\n",
       "        [ 71.,  69.,  74.]],\n",
       "\n",
       "       [[ 49.,  45.,  46.],\n",
       "        [ 49.,  45.,  46.],\n",
       "        [ 49.,  45.,  46.],\n",
       "        ...,\n",
       "        [ 63.,  61.,  66.],\n",
       "        [ 71.,  69.,  74.],\n",
       "        [ 71.,  69.,  74.]],\n",
       "\n",
       "       [[ 45.,  41.,  42.],\n",
       "        [ 45.,  41.,  42.],\n",
       "        [ 45.,  41.,  42.],\n",
       "        ...,\n",
       "        [ 57.,  56.,  62.],\n",
       "        [ 62.,  61.,  67.],\n",
       "        [ 62.,  61.,  67.]]], dtype=float32)"
      ]
     },
     "execution_count": 26,
     "metadata": {},
     "output_type": "execute_result"
    }
   ],
   "source": [
    "x=image.img_to_array(img)\n",
    "x"
   ]
  },
  {
   "cell_type": "code",
   "execution_count": 27,
   "metadata": {},
   "outputs": [
    {
     "data": {
      "text/plain": [
       "(224, 224, 3)"
      ]
     },
     "execution_count": 27,
     "metadata": {},
     "output_type": "execute_result"
    }
   ],
   "source": [
    "x.shape"
   ]
  },
  {
   "cell_type": "code",
   "execution_count": 28,
   "metadata": {},
   "outputs": [],
   "source": [
    "x=x/255"
   ]
  },
  {
   "cell_type": "code",
   "execution_count": 29,
   "metadata": {},
   "outputs": [
    {
     "data": {
      "text/plain": [
       "(1, 224, 224, 3)"
      ]
     },
     "execution_count": 29,
     "metadata": {},
     "output_type": "execute_result"
    }
   ],
   "source": [
    "x=np.expand_dims(x,axis=0)\n",
    "img_data=preprocess_input(x)\n",
    "img_data.shape"
   ]
  },
  {
   "cell_type": "code",
   "execution_count": 30,
   "metadata": {},
   "outputs": [
    {
     "name": "stdout",
     "output_type": "stream",
     "text": [
      "1/1 [==============================] - 0s 343ms/step\n"
     ]
    },
    {
     "data": {
      "text/plain": [
       "array([[0.02469814, 0.00120256, 0.9740993 ]], dtype=float32)"
      ]
     },
     "execution_count": 30,
     "metadata": {},
     "output_type": "execute_result"
    }
   ],
   "source": [
    "model.predict(img_data)"
   ]
  },
  {
   "cell_type": "code",
   "execution_count": 31,
   "metadata": {},
   "outputs": [
    {
     "name": "stdout",
     "output_type": "stream",
     "text": [
      "1/1 [==============================] - 0s 250ms/step\n"
     ]
    }
   ],
   "source": [
    "a=np.argmax(model.predict(img_data), axis=1)"
   ]
  },
  {
   "cell_type": "code",
   "execution_count": 32,
   "metadata": {},
   "outputs": [
    {
     "data": {
      "text/plain": [
       "array([2], dtype=int64)"
      ]
     },
     "execution_count": 32,
     "metadata": {},
     "output_type": "execute_result"
    }
   ],
   "source": [
    "a"
   ]
  },
  {
   "cell_type": "code",
   "execution_count": null,
   "metadata": {},
   "outputs": [],
   "source": []
  }
 ],
 "metadata": {
  "kernelspec": {
   "display_name": "Python 3 (ipykernel)",
   "language": "python",
   "name": "python3"
  },
  "language_info": {
   "codemirror_mode": {
    "name": "ipython",
    "version": 3
   },
   "file_extension": ".py",
   "mimetype": "text/x-python",
   "name": "python",
   "nbconvert_exporter": "python",
   "pygments_lexer": "ipython3",
   "version": "3.8.18"
  }
 },
 "nbformat": 4,
 "nbformat_minor": 2
}
